{
 "cells": [
  {
   "cell_type": "code",
   "execution_count": 2,
   "metadata": {},
   "outputs": [
    {
     "name": "stdout",
     "output_type": "stream",
     "text": [
      "{'canonical_url': 'https://streetkitchen.hu/street-kitchen/tavaszi-rizses-hus/', 'host': 'streetkitchen.hu', 'image': 'https://static.streetkitchen.hu/live/uploads/2024/04/tavaszi-rizses-hus-1618x855.jpg', 'ingredient_groups': [{'ingredients': ['1 fej vöröshagyma (130 g/fej)', '4 gerezd fokhagyma', '3 ek étolaj', '1 tk fűszerpaprika', '300 g csirkecombfilé', 'só, bors', '1 db tv-paprika (130 g/db)', '1 db paradicsom (150 g/db)', '1 szál sárgarépa (150 g/szál)', '700 ml víz', '300 g rizs', '150 g fagyasztott zöldborsó', '½ csokor petrezselyem'], 'purpose': None}], 'ingredients': ['1 fej vöröshagyma (130 g/fej)', '4 gerezd fokhagyma', '3 ek étolaj', '1 tk fűszerpaprika', '300 g csirkecombfilé', 'só, bors', '1 db tv-paprika (130 g/db)', '1 db paradicsom (150 g/db)', '1 szál sárgarépa (150 g/szál)', '700 ml víz', '300 g rizs', '150 g fagyasztott zöldborsó', '½ csokor petrezselyem'], 'instructions': 'A tavaszi rizses hús elkészítéséhez először a vörös- és a fokhagymát finomra vágjuk, és közepes hőmérsékleten megpirítjuk az olajon 3-4 perc alatt, majd a tűzhelyről lehúzva meghintjük a fűszerpaprikával. Ezután hozzáadjuk a 1,5 cm-es kockákra vágott húst, sózzuk, borsozzuk, és további 2-3 perc alatt lepirítjuk.\\nA húshoz adjuk az 1 cm-es kockákra vágott paprikát, paradicsomot és répát, felöntjük 100 ml vízzel, és kb. 20 percig főzzük fedő alatt.\\nAmikor a répa is kezd megpuhulni, hozzáadjuk a rizst, felöntjük a maradék vízzel és lefedve, közepes vagy annál kicsit kisebb lángon, időnként megkevergetve kb. 20 perc alatt készre főzzük az ételt. Az utolsó 5 percben belekeverjük a borsót is. Tálalásnál finomra vágott petrezselyemmel szórjuk meg a tetejét.', 'instructions_list': ['A tavaszi rizses hús elkészítéséhez először a vörös- és a fokhagymát finomra vágjuk, és közepes hőmérsékleten megpirítjuk az olajon 3-4 perc alatt, majd a tűzhelyről lehúzva meghintjük a fűszerpaprikával. Ezután hozzáadjuk a 1,5 cm-es kockákra vágott húst, sózzuk, borsozzuk, és további 2-3 perc alatt lepirítjuk.', 'A húshoz adjuk az 1 cm-es kockákra vágott paprikát, paradicsomot és répát, felöntjük 100 ml vízzel, és kb. 20 percig főzzük fedő alatt.', 'Amikor a répa is kezd megpuhulni, hozzáadjuk a rizst, felöntjük a maradék vízzel és lefedve, közepes vagy annál kicsit kisebb lángon, időnként megkevergetve kb. 20 perc alatt készre főzzük az ételt. Az utolsó 5 percben belekeverjük a borsót is. Tálalásnál finomra vágott petrezselyemmel szórjuk meg a tetejét.'], 'language': 'hu', 'site_name': 'Street Kitchen', 'title': 'Tavaszi rizses hús', 'total_time': None, 'yields': '4 servings'}\n"
     ]
    }
   ],
   "source": [
    "from recipe_scrapers import scrape_me\n",
    "\n",
    "url = input(\"Enter the URL of the recipe you want to scrape: \")\n",
    "scraper = scrape_me(url)\n",
    "\n",
    "print(scraper.to_json())"
   ]
  },
  {
   "cell_type": "markdown",
   "metadata": {},
   "source": []
  },
  {
   "cell_type": "code",
   "execution_count": 5,
   "metadata": {},
   "outputs": [
    {
     "data": {
      "text/plain": [
       "['A tavaszi rizses hús elkészítéséhez először a vörös- és a fokhagymát finomra vágjuk, és közepes hőmérsékleten megpirítjuk az olajon 3-4 perc alatt, majd a tűzhelyről lehúzva meghintjük a fűszerpaprikával. Ezután hozzáadjuk a 1,5 cm-es kockákra vágott húst, sózzuk, borsozzuk, és további 2-3 perc alatt lepirítjuk.',\n",
       " 'A húshoz adjuk az 1 cm-es kockákra vágott paprikát, paradicsomot és répát, felöntjük 100 ml vízzel, és kb. 20 percig főzzük fedő alatt.',\n",
       " 'Amikor a répa is kezd megpuhulni, hozzáadjuk a rizst, felöntjük a maradék vízzel és lefedve, közepes vagy annál kicsit kisebb lángon, időnként megkevergetve kb. 20 perc alatt készre főzzük az ételt. Az utolsó 5 percben belekeverjük a borsót is. Tálalásnál finomra vágott petrezselyemmel szórjuk meg a tetejét.']"
      ]
     },
     "execution_count": 5,
     "metadata": {},
     "output_type": "execute_result"
    }
   ],
   "source": [
    "scraper.instructions_list()"
   ]
  },
  {
   "cell_type": "code",
   "execution_count": null,
   "metadata": {},
   "outputs": [],
   "source": []
  }
 ],
 "metadata": {
  "kernelspec": {
   "display_name": "Python 3",
   "language": "python",
   "name": "python3"
  },
  "language_info": {
   "codemirror_mode": {
    "name": "ipython",
    "version": 3
   },
   "file_extension": ".py",
   "mimetype": "text/x-python",
   "name": "python",
   "nbconvert_exporter": "python",
   "pygments_lexer": "ipython3",
   "version": "3.12.4"
  }
 },
 "nbformat": 4,
 "nbformat_minor": 2
}
