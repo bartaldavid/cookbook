{
 "cells": [
  {
   "cell_type": "code",
   "execution_count": 1,
   "id": "initial_id",
   "metadata": {
    "ExecuteTime": {
     "end_time": "2024-09-18T19:28:56.407752Z",
     "start_time": "2024-09-18T19:28:52.945504Z"
    },
    "collapsed": true
   },
   "outputs": [],
   "source": [
    "from db import SessionLocal\n",
    "from models import Recipe\n",
    "\n",
    "database = SessionLocal()"
   ]
  },
  {
   "cell_type": "code",
   "execution_count": 2,
   "id": "859c0fafd6fa3880",
   "metadata": {
    "ExecuteTime": {
     "end_time": "2024-09-18T19:30:10.120490300Z",
     "start_time": "2024-09-18T19:28:56.484692Z"
    }
   },
   "outputs": [
    {
     "ename": "NameError",
     "evalue": "name 'Recipe' is not defined",
     "output_type": "error",
     "traceback": [
      "\u001b[1;31m---------------------------------------------------------------------------\u001b[0m",
      "\u001b[1;31mNameError\u001b[0m                                 Traceback (most recent call last)",
      "Cell \u001b[1;32mIn[2], line 3\u001b[0m\n\u001b[0;32m      1\u001b[0m \u001b[38;5;28;01mfrom\u001b[39;00m \u001b[38;5;21;01msqlalchemy\u001b[39;00m \u001b[38;5;28;01mimport\u001b[39;00m select\n\u001b[1;32m----> 3\u001b[0m select(\u001b[43mRecipe\u001b[49m)\u001b[38;5;241m.\u001b[39mwhere(Recipe\u001b[38;5;241m.\u001b[39mid \u001b[38;5;241m==\u001b[39m \u001b[38;5;241m1\u001b[39m)\n",
      "\u001b[1;31mNameError\u001b[0m: name 'Recipe' is not defined"
     ]
    }
   ],
   "source": [
    "from sqlalchemy import select\n",
    "\n",
    "select(Recipe).where(Recipe.id == 1)"
   ]
  },
  {
   "cell_type": "code",
   "execution_count": 3,
   "id": "cdaed5fdb728c3e8",
   "metadata": {
    "ExecuteTime": {
     "end_time": "2024-09-18T19:28:59.736726Z",
     "start_time": "2024-09-18T19:28:59.730533Z"
    }
   },
   "outputs": [],
   "source": [
    "import sqlite3\n",
    "\n",
    "con = sqlite3.connect(\"local.db\")"
   ]
  },
  {
   "cell_type": "code",
   "execution_count": 11,
   "id": "908b39f1533a2fd",
   "metadata": {
    "ExecuteTime": {
     "end_time": "2024-09-18T19:34:31.259622Z",
     "start_time": "2024-09-18T19:34:31.251876Z"
    }
   },
   "outputs": [
    {
     "data": {
      "text/plain": [
       "[]"
      ]
     },
     "execution_count": 11,
     "metadata": {},
     "output_type": "execute_result"
    }
   ],
   "source": [
    "cur = con.cursor()\n",
    "res = cur.execute(\"select id, title from recipes where id = 1\")\n",
    "res.fetchall()"
   ]
  },
  {
   "cell_type": "code",
   "execution_count": null,
   "id": "94c71ef0172603fe",
   "metadata": {},
   "outputs": [],
   "source": []
  }
 ],
 "metadata": {
  "kernelspec": {
   "display_name": "Python 3",
   "language": "python",
   "name": "python3"
  },
  "language_info": {
   "codemirror_mode": {
    "name": "ipython",
    "version": 2
   },
   "file_extension": ".py",
   "mimetype": "text/x-python",
   "name": "python",
   "nbconvert_exporter": "python",
   "pygments_lexer": "ipython2",
   "version": "3.12.6"
  }
 },
 "nbformat": 4,
 "nbformat_minor": 5
}
